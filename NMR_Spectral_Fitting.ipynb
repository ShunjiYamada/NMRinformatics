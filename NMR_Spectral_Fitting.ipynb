{
  "nbformat": 4,
  "nbformat_minor": 0,
  "metadata": {
    "colab": {
      "name": "NMR Spectral Fitting",
      "provenance": [],
      "collapsed_sections": [],
      "toc_visible": true,
      "include_colab_link": true
    },
    "kernelspec": {
      "display_name": "Python 3",
      "name": "python3"
    }
  },
  "cells": [
    {
      "cell_type": "markdown",
      "metadata": {
        "id": "view-in-github",
        "colab_type": "text"
      },
      "source": [
        "<a href=\"https://colab.research.google.com/github/ShunjiYamada/NMRinformatics/blob/main/NMR_Spectral_Fitting.ipynb\" target=\"_parent\"><img src=\"https://colab.research.google.com/assets/colab-badge.svg\" alt=\"Open In Colab\"/></a>"
      ]
    },
    {
      "cell_type": "markdown",
      "metadata": {
        "id": "-OUI8LC2Ho5i"
      },
      "source": [
        "# NMRスペクトルからパラメーターを算出"
      ]
    },
    {
      "cell_type": "code",
      "metadata": {
        "colab": {
          "base_uri": "https://localhost:8080/"
        },
        "id": "gHT-2owQHuoj",
        "outputId": "247aad67-08e5-4154-fcb6-c4230c39006f"
      },
      "source": [
        "!pip install nmrglue"
      ],
      "execution_count": null,
      "outputs": [
        {
          "output_type": "stream",
          "text": [
            "Collecting nmrglue\n",
            "\u001b[?25l  Downloading https://files.pythonhosted.org/packages/7d/a6/3101b5e9e33bb3a96c62f8d5f6773f51b2062c83aa075430bc4e78ac0f7b/nmrglue-0.8-py2.py3-none-any.whl (218kB)\n",
            "\r\u001b[K     |█▌                              | 10kB 14.7MB/s eta 0:00:01\r\u001b[K     |███                             | 20kB 20.2MB/s eta 0:00:01\r\u001b[K     |████▌                           | 30kB 24.0MB/s eta 0:00:01\r\u001b[K     |██████                          | 40kB 26.6MB/s eta 0:00:01\r\u001b[K     |███████▌                        | 51kB 17.6MB/s eta 0:00:01\r\u001b[K     |█████████                       | 61kB 13.4MB/s eta 0:00:01\r\u001b[K     |██████████▌                     | 71kB 12.8MB/s eta 0:00:01\r\u001b[K     |████████████                    | 81kB 13.8MB/s eta 0:00:01\r\u001b[K     |█████████████▌                  | 92kB 13.4MB/s eta 0:00:01\r\u001b[K     |███████████████                 | 102kB 14.4MB/s eta 0:00:01\r\u001b[K     |████████████████▌               | 112kB 14.4MB/s eta 0:00:01\r\u001b[K     |██████████████████              | 122kB 14.4MB/s eta 0:00:01\r\u001b[K     |███████████████████▌            | 133kB 14.4MB/s eta 0:00:01\r\u001b[K     |█████████████████████           | 143kB 14.4MB/s eta 0:00:01\r\u001b[K     |██████████████████████▌         | 153kB 14.4MB/s eta 0:00:01\r\u001b[K     |████████████████████████        | 163kB 14.4MB/s eta 0:00:01\r\u001b[K     |█████████████████████████▍      | 174kB 14.4MB/s eta 0:00:01\r\u001b[K     |███████████████████████████     | 184kB 14.4MB/s eta 0:00:01\r\u001b[K     |████████████████████████████▍   | 194kB 14.4MB/s eta 0:00:01\r\u001b[K     |██████████████████████████████  | 204kB 14.4MB/s eta 0:00:01\r\u001b[K     |███████████████████████████████▍| 215kB 14.4MB/s eta 0:00:01\r\u001b[K     |████████████████████████████████| 225kB 14.4MB/s \n",
            "\u001b[?25hRequirement already satisfied: scipy in /usr/local/lib/python3.7/dist-packages (from nmrglue) (1.4.1)\n",
            "Requirement already satisfied: numpy in /usr/local/lib/python3.7/dist-packages (from nmrglue) (1.19.5)\n",
            "Installing collected packages: nmrglue\n",
            "Successfully installed nmrglue-0.8\n"
          ],
          "name": "stdout"
        }
      ]
    },
    {
      "cell_type": "code",
      "metadata": {
        "colab": {
          "base_uri": "https://localhost:8080/"
        },
        "id": "r3B-TTXPLOb7",
        "outputId": "7f1db33c-08d3-4331-e7a2-280157eae460"
      },
      "source": [
        "from google.colab import drive\n",
        "drive.mount('/content/drive')"
      ],
      "execution_count": null,
      "outputs": [
        {
          "output_type": "stream",
          "text": [
            "Mounted at /content/drive\n"
          ],
          "name": "stdout"
        }
      ]
    },
    {
      "cell_type": "markdown",
      "metadata": {
        "id": "VDqmERjDOBCm"
      },
      "source": [
        ""
      ]
    },
    {
      "cell_type": "code",
      "metadata": {
        "id": "BlgF3qCJJOSp"
      },
      "source": [
        "import nmrglue as ng"
      ],
      "execution_count": null,
      "outputs": []
    },
    {
      "cell_type": "code",
      "metadata": {
        "id": "5v_DQzWONwma"
      },
      "source": [
        "dic,data=ng.fileio.bruker.read(r'/content/drive/My Drive/Polymer_cdcl3/1010/')"
      ],
      "execution_count": null,
      "outputs": []
    },
    {
      "cell_type": "markdown",
      "metadata": {
        "id": "35js6THtKYdx"
      },
      "source": [
        ""
      ]
    },
    {
      "cell_type": "code",
      "metadata": {
        "colab": {
          "base_uri": "https://localhost:8080/"
        },
        "id": "yegEqc7PN5k8",
        "outputId": "97d531ed-49ad-4cb6-ed72-858f3e9a6373"
      },
      "source": [
        "print(dic)"
      ],
      "execution_count": null,
      "outputs": [
        {
          "output_type": "stream",
          "text": [
            "{'procs': {'_coreheader': ['##TITLE= Parameter file, TopSpin 4.0.8.b.19', '##JCAMPDX= 5.0', '##DATATYPE= Parameter Values', '##NPOINTS= 7\\t$$ modification sequence number', '##ORIGIN= Bruker BioSpin GmbH', '##OWNER= tsuboyu'], '_comments': ['$$ 2021-02-18 18:13:43.960 +0900  tsuboyu@CZC925CX7V', '$$ /home/tsuboyu/data/nmr/Doro_Test10/1010/pdata/1/procs', '$$ process /opt/topspin4.0.8.b.19/prog/mod/proc1d'], 'ABSF1': 0, 'ABSF2': 0, 'ABSG': 0, 'ABSL': 0, 'ALPHA': 0, 'AQORDER': 0, 'ASSFAC': 0, 'ASSFACI': 0, 'ASSFACX': 0, 'ASSWID': 0, 'AUNMP': 'proc_1d', 'AXLEFT': 0, 'AXNAME': '', 'AXNUC': '1H', 'AXRIGHT': 0, 'AXTYPE': 0, 'AXUNIT': '', 'AZFE': 0.1, 'AZFW': 0.1, 'BCFW': 0, 'BC_mod': 0, 'BYTORDP': 0, 'COROFFS': 0, 'CY': 15, 'DATMOD': 1, 'DC': 0, 'DFILT': '', 'DTYPP': 0, 'ERETIC': False, 'F1P': 14.6215295791626, 'F2P': -5.21367939845798, 'FCOR': 1, 'FTSIZE': 32768, 'FT_mod': 6, 'GAMMA': 0, 'GB': 0, 'INTBC': 1, 'INTSCL': 1, 'ISEN': 128, 'LB': 0.3, 'LEV0': 0, 'LPBIN': 0, 'MAXI': 10000, 'MC2': 0, 'MEAN': 0, 'ME_mod': 0, 'MI': 0, 'MddCEXP': False, 'MddCT_SP': False, 'MddF180': False, 'MddLAMBDA': 0, 'MddMEMORY': 0, 'MddMERGE': 0, 'MddNCOMP': 0, 'MddNITER': 0, 'MddNOISE': 0, 'MddPHASE': 0, 'MddSEED': 0, 'MddSRSIZE': 0, 'Mdd_CsALG': 0, 'Mdd_CsLAMBDA': 0, 'Mdd_CsNITER': 0, 'Mdd_CsNORM': 0, 'Mdd_CsVE': False, 'Mdd_CsZF': 0, 'Mdd_LrLAMBDA': 0, 'Mdd_LrNITER': 0, 'Mdd_LrRANK': 0, 'Mdd_LrZF': 0, 'Mdd_mod': 0, 'NCOEF': 0, 'NC_proc': 10, 'NLEV': 6, 'NOISF1': 8.174992, 'NOISF2': 6.675002, 'NSP': 0, 'NTH_PI': 0, 'NZP': 0, 'OFFSET': 12.81514, 'PC': 1, 'PHC0': -39.20633, 'PHC1': 1.837896, 'PH_mod': 1, 'PKNL': True, 'PPARMOD': 0, 'PPDIAG': 0, 'PPIPTYP': 0, 'PPMPNUM': 2147483647, 'PPRESOL': 1, 'PSCAL': 4, 'PSIGN': 0, 'PYNMP': 'proc.py', 'RDF1': 0, 'RDF2': 0, 'RDFWHM': 0, 'RDINT': 0, 'RDPOS': 0, 'REVERSE': False, 'SF': 700.15, 'SI': 32768, 'SIGF1': 5.6, 'SIGF2': 5.2, 'SINO': 0, 'SIOLD': 32768, 'SPECTYP': '', 'SREF_mod': 1, 'SREGLST': '1H.CDCl3', 'SSB': 0, 'STSI': 32768, 'STSR': 0, 'SW_p': 11363.6363636364, 'SYMM': 0, 'S_DEV': 0, 'TDeff': 65536, 'TDoff': 0, 'TI': '', 'TILT': False, 'TM1': 0, 'TM2': 0, 'TOPLEV': 0, 'USERP1': '', 'USERP2': '', 'USERP3': '', 'USERP4': '', 'USERP5': '', 'WDW': 1, 'XDIM': 0, 'YMAX_p': 320437150, 'YMIN_p': 94337}, 'acqus': {'_coreheader': ['##TITLE= Parameter file, TopSpin 4.0.8.b.19', '##JCAMPDX= 5.0', '##DATATYPE= Parameter Values', '##NPOINTS= 7\\t$$ modification sequence number', '##ORIGIN= Bruker BioSpin GmbH', '##OWNER= tsuboyu'], '_comments': ['$$ 2021-02-18 18:06:44.151 +0900  tsuboyu@CZC925CX7V', '$$ /home/tsuboyu/data/nmr/Doro_Test10/1010/acqus', '$$ process /opt/topspin4.0.8.b.19/prog/mod/acqdataserver'], 'ACQT0': -5.09294626941686, 'AMP': [100, 100, 100, 100, 100, 100, 100, 100, 100, 100, 100, 100, 100, 100, 100, 100, 100, 100, 100, 100, 100, 100, 100, 100, 100, 100, 100, 100, 100, 100, 100, 100], 'AMPCOIL': [-1, 0, 0, 0, 0, 0, 0, 0, 0, 0, 0, 0, 0, 0, 0, 0, 0, 0, 0, 0, 0, 0, 0, 0, 0, 0, 0, 0, 0, 0, 0, 0, 0], 'AQSEQ': 0, 'AQ_mod': 3, 'AUNM': 'au_zg', 'AUTOPOS': '1  A3 - 117 ', 'BF1': 700.15, 'BF2': 176.052858, 'BF3': 700.15, 'BF4': 700.15, 'BF5': 700.15, 'BF6': 700.15, 'BF7': 700.15, 'BF8': 700.15, 'BWFAC': [0, 0, 0, 0, 0, 0, 0, 0, 0, 0, 0, 0, 0, 0, 0, 0, 0, 0, 0, 0, 0, 0, 0, 0, 0, 0, 0, 0, 0, 0, 0, 0, 0, 0, 0, 0, 0, 0, 0, 0, 0, 0, 0, 0, 0, 0, 0, 0, 0, 0, 0, 0, 0, 0, 0, 0, 0, 0, 0, 0, 0, 0, 0, 0], 'BYTORDA': 0, 'CHANFCU': [0, 1, 2, 0, 0, 0, 0, 0, 0, 0, 0, 0, 0, 0, 0, 0, 0, 0, 0, 0, 0, 0, 0, 0, 0], 'CHANREC': [0, 1, 2, 0, 0, 0, 0, 0, 0, 0, 0, 0, 0, 0, 0, 0, 0, 0, 0, 0, 0, 0, 0, 0, 0], 'CHEMSTR': 'none', 'CNST': [1, 1, 1, 1, 1, 1, 1, 1, 1, 1, 1, 1, 1, 1, 1, 1, 1, 1, 1, 1, 1, 1, 1, 1, 1, 1, 1, 1, 1, 1, 1, 1, 1, 1, 1, 1, 1, 1, 1, 1, 1, 1, 1, 1, 1, 1, 1, 1, 1, 1, 1, 1, 1, 1, 1, 1, 1, 1, 1, 1, 1, 1, 1, 1], 'CPDPRG': ['', '', '', '', '', '', '', '', ''], 'D': [0, 1, 0, 0, 0, 0, 0, 0, 0, 0, 0, 0, 0, 0, 0, 0, 0.0002, 0, 0, 0, 0, 0, 0, 0, 0, 0, 0, 0, 0, 0, 0, 0, 0, 0, 0, 0, 0, 0, 0, 0, 0, 0, 0, 0, 0, 0, 0, 0, 0, 0, 0, 0, 0, 0, 0, 0, 0, 0, 0, 0, 0, 0, 0, 0], 'DATE': 1613639204, 'DE': 12.28705, 'DECBNUC': 'off', 'DECIM': 1760, 'DECNUC': 'off', 'DECSTAT': 4, 'DIGMOD': 3, 'DIGTYP': 17, 'DR': 32, 'DS': 4, 'DSPFIRM': 4, 'DSPFVS': 21, 'DTYPA': 2, 'EXP': 'tb_zg', 'ExpStatus': 4, 'FCUCHAN': [0, 1, 2, 0, 0, 0, 0, 0, 0, 0], 'FILCOR': 0.88, 'FL1': 0, 'FL2': 0, 'FL3': 0, 'FL4': 0, 'FN_INDIRECT': [0, 0, 0, 0, 0, 0, 0, 0], 'FOV': 0, 'FQ1LIST': '', 'FQ2LIST': '', 'FQ3LIST': '', 'FQ4LIST': '', 'FQ5LIST': '', 'FQ6LIST': '', 'FQ7LIST': '', 'FQ8LIST': '', 'FS': [83, 83, 83, 83, 83, 83, 83, 83], 'FTLPGN': 0, 'FW': 240000000.0, 'FnILOOP': 0, 'FnMODE': 0, 'FnTYPE': 0, 'GPNAM': ['', '', '', '', '', '', '', '', '', '', '', '', '', '', '', '', '', '', '', '', '', '', '', '', '', '', '', '', '', '', '', ''], 'GPX': [0, 0, 0, 0, 0, 0, 0, 0, 0, 0, 0, 0, 0, 0, 0, 0, 0, 0, 0, 0, 0, 0, 0, 0, 0, 0, 0, 0, 0, 0, 0, 0], 'GPY': [0, 0, 0, 0, 0, 0, 0, 0, 0, 0, 0, 0, 0, 0, 0, 0, 0, 0, 0, 0, 0, 0, 0, 0, 0, 0, 0, 0, 0, 0, 0, 0], 'GPZ': [0, 0, 0, 0, 0, 0, 0, 0, 0, 0, 0, 0, 0, 0, 0, 0, 0, 0, 0, 0, 0, 0, 0, 0, 0, 0, 0, 0, 0, 0, 0, 0], 'GRPDLY': 76, 'HDDUTY': 20, 'HDRATE': 1, 'HGAIN': [0, 0, 0, 0], 'HL1': 0, 'HL2': 0, 'HL3': 0, 'HL4': 0, 'HOLDER': 117, 'HPMOD': [0, 0, 0, 0, 0, 0, 0, 0, 0, 0, 0, 0, 0, 0, 0, 0, 0, 0, 0, 0, 0, 0, 0, 0, 0, 0, 0, 0, 0, 0, 0, 0, 0], 'HPPRGN': 0, 'IN': [0, 0, 0, 0, 0, 0, 0, 0, 0, 0, 0, 0, 0, 0, 0, 0, 0, 0, 0, 0, 0, 0, 0, 0, 0, 0, 0, 0, 0, 0, 0, 0, 0, 0, 0, 0, 0, 0, 0, 0, 0, 0, 0, 0, 0, 0, 0, 0, 0, 0, 0, 0, 0, 0, 0, 0, 0, 0, 0, 0, 0, 0, 0, 0], 'INF': [0, 0, 0, 0, 0, 0, 0, 0], 'INP': [0, 0, 0, 0, 0, 0, 0, 0, 0, 0, 0, 0, 0, 0, 0, 0, 0, 0, 0, 0, 0, 0, 0, 0, 0, 0, 0, 0, 0, 0, 0, 0, 0, 0, 0, 0, 0, 0, 0, 0, 0, 0, 0, 0, 0, 0, 0, 0, 0, 0, 0, 0, 0, 0, 0, 0, 0, 0, 0, 0, 0, 0, 0, 0], 'INSTRUM': 'Avance', 'INTEGFAC': [0, 0, 0, 0, 0, 0, 0, 0, 0, 0, 0, 0, 0, 0, 0, 0, 0, 0, 0, 0, 0, 0, 0, 0, 0, 0, 0, 0, 0, 0, 0, 0, 0, 0, 0, 0, 0, 0, 0, 0, 0, 0, 0, 0, 0, 0, 0, 0, 0, 0, 0, 0, 0, 0, 0, 0, 0, 0, 0, 0, 0, 0, 0, 0], 'L': [1, 1, 1, 1, 1, 1, 1, 1, 1, 1, 1, 1, 1, 1, 1, 1, 1, 1, 1, 1, 1, 1, 1, 1, 1, 1, 1, 1, 1, 1, 1, 1], 'LFILTER': 100, 'LGAIN': -12, 'LINPSTP': 0, 'LOCKED': True, 'LOCKFLD': -1491, 'LOCKGN': 115.800003051758, 'LOCKPOW': -27, 'LOCKPPM': 7.23999977111816, 'LOCNUC': '2H', 'LOCPHAS': 357.8, 'LOCSHFT': True, 'LOCSW': 0, 'LTIME': 0.400000005960464, 'MASR': 5000, 'MASRLST': 'masrlst', 'MULEXPNO': [0, 0, 0, 0, 0, 0, 0, 0, 0, 0, 0, 0, 0, 0, 0, 0], 'NBL': 1, 'NC': 0, 'NLOGCH': 3, 'NOVFLW': 0, 'NS': 8, 'NUC1': '1H', 'NUC2': '13C', 'NUC3': 'off', 'NUC4': 'off', 'NUC5': 'off', 'NUC6': 'off', 'NUC7': 'off', 'NUC8': 'off', 'NUCLEUS': 'off', 'NUSLIST': 'automatic', 'NusAMOUNT': 100, 'NusFPNZ': False, 'NusJSP': 0, 'NusSEED': 54321, 'NusSPTYPE': 0, 'NusT2': 1, 'NusTD': 0, 'O1': 3290.705, 'O2': 0, 'O3': 0, 'O4': 3290.7, 'O5': 3290.7, 'O6': 3290.7, 'O7': 3290.7, 'O8': 3290.7, 'OVERFLW': 0, 'P': [8, 8, 16, 0, 0, 16.5, 25, 50, 20000, 0, 0, 80000, 80000, 1000, 0, 0, 1000, 2500, 100000, 600, 0, 0, 0, 0, 0, 154, 100000, 8, 0, 1000, 0, 0, 20000, 0, 0, 0, 0, 0, 0, 0, 2000, 0, 0, 0, 171, 0, 80000, 46600, 10000, 30000, 66000, 0, 0, 0, 0, 0, 0, 0, 0, 0, 0, 0, 0, 0], 'PACOIL': [1, 4, 2, 3, 0, 0, 0, 0, 0, 0, 0, 0, 0, 0, 0, 0, 0, 0, 0, 0, 0, 0, 0, 0, 0, 0, 0, 0, 0, 0, 0, 0, 0], 'PAPS': 0, 'PARMODE': 0, 'PCPD': [0, 65, 0, 0, 0, 0, 0, 0, 0, 0], 'PEXSEL': [1, 1, 1, 1, 1, 1, 1, 1, 1, 1], 'PHCOR': [0, 0, 0, 0, 0, 0, 0, 0, 0, 0, 0, 0, 0, 0, 0, 0, 0, 0, 0, 0, 0, 0, 0, 0, 0, 0, 0, 0, 0, 0, 0, 0], 'PHLIST': '', 'PH_ref': 0, 'PL': [120, 120, 120, 120, 120, 120, 120, 120, 120, 120, 120, 120, 120, 120, 120, 120, 120, 120, 120, 120, 120, 120, 120, 120, 120, 120, 120, 120, 120, 120, 120, 120, 120, 120, 120, 120, 120, 120, 120, 120, 120, 120, 120, 120, 120, 120, 120, 120, 120, 120, 120, 120, 120, 120, 120, 120, 120, 120, 120, 120, 120, 120, 120, 120], 'PLSTEP': 0.1, 'PLSTRT': -6, 'PLW': [0, 11.188, 0, 0, 0, 0, 0, 0, 0, 2.8641e-05, 1.1457, 0.11188, 0, 0, 0, 0, 0, 0, 11.188, 0.16948, 0, 0, 0, 0, 0, 0, 0, 0.12077, 0, 1.1457, 0, 0, 1.1457e-06, 0, 0, 0, 0, 0, 0, 0, 0, 0, 0, 0, 0, 0, 0, 0, 0, 0, 0, 0, 0, 0, 0, 0, 0, 0, 0, 0, 0, 0, 0, 0], 'PLWMAX': [137.1317, 0, 0, 0, 0, 0, 0, 0], 'PQPHASE': 0, 'PQSCALE': 1, 'PR': 1, 'PRECHAN': [-1, 0, 2, -1, 3, -1, 1, -1, -1, -1, -1, -1, -1, -1, -1, -1, -1, -1, -1, -1, -1, -1, -1, -1, -1, -1, -1, -1, -1, -1, -1, -1, -1], 'PROBHD': 'Z44908_0018 (CP TCI 700S4 H-C/N-D-05 Z)', 'PROBINPUTS': ['1H', '13C', '15N', '2H', '', '', '', '', '', '', '', '', '', '', '', ''], 'PULPROG': 'zg', 'PW': 0, 'PYNM': '', 'ProjAngle': 0, 'QNP': 0, 'RD': 0, 'RECCHAN': [0, 1, 2, 0, 0, 0, 0, 0, 0, 0], 'RECPH': 0, 'RECPRE': [-1, 0, 2, -1, -1, -1, -1, -1, -1, -1, -1, -1, -1, -1, -1, -1, -1, -1, -1, -1, -1, -1, -1, -1, -1], 'RECPRFX': [1, 0, 1, 1, 0, 0, 0, 0, 0, 0, 0, 0, 0, 0, 0, 0, 0, 0, 0, 0, 0, 0, 0, 0, 0, 0, 0, 0, 0, 0, 0, 0, 0], 'RECSEL': [0, 1, 2, 0, 0, 0, 0, 0, 0, 0, 0, 0, 0, 0, 0, 0, 0, 0, 0, 0, 0, 0, 0, 0, 0], 'RG': 15.08929, 'RO': 0, 'RSEL': [0, 1, 2, 0, 0, 0, 0, 0, 0, 0, 0, 0, 0, 0, 0, 0, 0, 0, 0, 0, 0, 0, 0, 0, 0], 'S': [83, 83, 83, 83, 83, 83, 83, 83], 'SAMPLEID': '', 'SELREC': [0, 0, 0, 0, 0, 0, 0, 0, 0, 0, 0, 0, 0, 0, 0, 0, 0, 0, 0, 0, 0, 0, 0, 0, 0], 'SFO1': 700.153290705, 'SFO2': 176.052858, 'SFO3': 700.15, 'SFO4': 700.1532907, 'SFO5': 700.1532907, 'SFO6': 700.1532907, 'SFO7': 700.1532907, 'SFO8': 700.1532907, 'SOLVENT': 'CDCl3', 'SOLVOLD': 'off', 'SP': [120, 120, 120, 120, 120, 120, 120, 120, 120, 120, 120, 120, 120, 120, 120, 120, 120, 120, 120, 120, 120, 120, 120, 120, 120, 120, 120, 120, 120, 120, 120, 120, 120, 120, 120, 120, 120, 120, 120, 120, 120, 120, 120, 120, 120, 120, 120, 120, 120, 120, 120, 120, 120, 120, 120, 120, 120, 120, 120, 120, 120, 120, 120, 120], 'SPECTR': 0, 'SPINCNT': 0, 'SPNAM': ['', 'Gaus1_270.1000', 'Gaus1_180r.1000', '', '', 'Sinc1.1000', 'Squa100.1000', '', 'Squa100.1000', '', 'Sinc1.1000', 'Sinc1.1000', '', '', '', '', '', '', '', 'Sinc1.1000', 'Sinc1.1000', 'Sinc1.1000', 'Sinc1.1000', '', '', '', '', '', '', 'Crp60,20,20.10', 'Bip720,50,20.1', '', '', '', 'Rsnob.1000', 'Gaus1_180r.1000', 'Gaus1_180r.1000', 'Crp_psyche.20', '', '', 'Gaus1_180i.1000', 'Squa100.1000', '', '', '', '', '', '', '', '', '', '', '', '', '', '', '', '', '', '', '', '', '', ''], 'SPOAL': [0.5, 1, 0.5, 0.5, 0.5, 0.5, 0.5, 0.5, 0.5, 0.5, 0.5, 0.5, 0.5, 0.5, 0.5, 0.5, 0.5, 0.5, 0.5, 1, 1, 1, 1, 0.5, 0.5, 0.5, 0.5, 0.5, 0.5, 0.5, 0.5, 0.5, 0.5, 0.5, 0.5, 0.5, 0.5, 0.5, 0.5, 0.5, 0.5, 0.5, 0.5, 0.5, 0.5, 0.5, 0.5, 0.5, 0.5, 0.5, 0.5, 0.5, 0.5, 0.5, 0.5, 0.5, 0.5, 0.5, 0.5, 0.5, 0.5, 0.5, 0.5, 0.5], 'SPOFFS': [0, 0, 0, 0, 0, 0, 0, 0, 0, 0, 0, 0, 0, 0, 0, 0, 0, 0, 0, 0, 0, 0, 0, 0, 0, 0, 0, 0, 0, 0, 0, 0, 0, 0, 0, 0, 0, 0, 0, 0, 0, 0, 0, 0, 0, 0, 0, 0, 0, 0, 0, 0, 0, 0, 0, 0, 0, 0, 0, 0, 0, 0, 0, 0], 'SPPEX': [0, 0, 0, 0, 0, 0, 0, 0, 0, 0, 0, 0, 0, 0, 0, 0, 0, 0, 0, 0, 0, 0, 0, 0, 0, 0, 0, 0, 0, 0, 0, 0, 0, 0, 0, 0, 0, 0, 0, 0, 0, 0, 0, 0, 0, 0, 0, 0, 0, 0, 0, 0, 0, 0, 0, 0, 0, 0, 0, 0, 0, 0, 0, 0], 'SPW': [0, 5.9442e-06, 2.6419e-06, 0, 0, 0.0020647, 2.8641e-05, 0, 7.1604e-08, 0, 0.0020647, 0.0020647, 0, 0, 0, 0, 0, 0, 0, 4.217109e-06, 6.555359e-06, 3.060888e-06, 1.650712e-05, 0, 0, 0, 0, 0, 0, 0.027351, 1.5672, 0, 0, 0, 2.8882e-05, 2.6419e-06, 0.00016908, 9.4455e-05, 0, 0, 3.8815e-06, 7.1604e-08, 0, 0, 0, 0, 0, 0, 0, 0, 0, 0, 0, 0, 0, 0, 0, 0, 0, 0, 0, 0, 0, 0], 'SUBNAM': ['', '', '', '', '', '', '', '', '', ''], 'SW': 16.2302120328451, 'SWIBOX': [0, 1, 2, 0, 0, 0, 0, 0, 0, 0, 0, 0, 0, 0, 0, 0, 0, 0, 0, 0, 0, 0, 0, 0, 0, 0, 0, 0, 0, 0, 0, 0, 0], 'SW_h': 11363.6363636364, 'SWfinal': 0, 'SigLockShift': 0, 'TD': 66560, 'TD0': 1, 'TD_INDIRECT': [0, 0, 0, 0, 0, 0, 0, 0], 'TDav': 1, 'TE': 298.0047, 'TE1': 298.0047, 'TE2': 0, 'TE3': 0, 'TE4': 0, 'TEG': 300, 'TE_MAGNET': 0, 'TE_PIDX': 1, 'TE_STAB': [1, 1, 0, 0, 0, 0, 0, 0, 0, 0], 'TOTROT': [0, 0, 0, 0, 0, 0, 0, 0, 0, 0, 0, 0, 0, 0, 0, 0, 0, 0, 0, 0, 0, 0, 0, 0, 0, 0, 0, 0, 0, 0, 0, 0, 0, 0, 0, 0, 0, 0, 0, 0, 0, 0, 0, 0, 0, 0, 0, 0, 0, 0, 0, 0, 0, 0, 0, 0, 0, 0, 0, 0, 0, 0, 0, 0], 'TUBE_TYPE': '', 'USERA1': '', 'USERA2': '', 'USERA3': '', 'USERA4': '', 'USERA5': '', 'UUID': '810f7460-71c8-11eb-8c03-00139537a3e0', 'V9': 5, 'VALIDCODE': -1, 'VALIST': '', 'VCLIST': '', 'VDLIST': '', 'VPLIST': '', 'VTLIST': '', 'WBST': 1024, 'WBSW': [20, 10, 10, 10, 10, 10, 10, 10], 'XGAIN': [0, 0, 0, 0], 'XL': 0, 'YL': 0, 'YMAX_a': 2026024415.32812, 'YMIN_a': -2642772167.61719, 'ZGOPTNS': '', 'ZL1': 120, 'ZL2': 120, 'ZL3': 120, 'ZL4': 120, 'scaledByNS': False, 'scaledByRG': False}, 'pprog': {'var': {'acqt0': '-p1*2/3.1416'}, 'incr': [], 'loop': [], 'phase': [], 'ph_extra': []}, 'FILE_SIZE': 532480}\n"
          ],
          "name": "stdout"
        }
      ]
    },
    {
      "cell_type": "code",
      "metadata": {
        "id": "7oRpIr4LO99z",
        "colab": {
          "base_uri": "https://localhost:8080/"
        },
        "outputId": "f9deb074-f3e5-458f-e029-8459d50ff725"
      },
      "source": [
        "print(data)"
      ],
      "execution_count": null,
      "outputs": [
        {
          "output_type": "stream",
          "text": [
            "[   436.84375    -303.3515625j  -1063.6953125 +1793.953125j\n",
            "   2036.09375    -746.0546875j ... -17038.8125   +24782.484375j\n",
            " -11665.8984375+18828.2578125j  17163.5859375+41315.2421875j]\n"
          ],
          "name": "stdout"
        }
      ]
    }
  ]
}